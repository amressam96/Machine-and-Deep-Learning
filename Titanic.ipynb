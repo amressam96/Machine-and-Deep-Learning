{
 "cells": [
  {
   "cell_type": "code",
   "execution_count": 1,
   "metadata": {},
   "outputs": [],
   "source": [
    "#Importing Essential Libraries\n",
    "import numpy as np\n",
    "import pandas as pd\n",
    "import matplotlib.pyplot as plt\n",
    "import seaborn as sns"
   ]
  },
  {
   "cell_type": "code",
   "execution_count": 2,
   "metadata": {},
   "outputs": [],
   "source": [
    "df_training = pd.read_csv(\"c:\\\\Kaggle\\\\Titanic\\\\train.csv\")\n",
    "df_test = pd.read_csv(\"C:\\\\Kaggle\\\\Titanic\\\\test.csv\")"
   ]
  },
  {
   "cell_type": "code",
   "execution_count": 3,
   "metadata": {},
   "outputs": [
    {
     "data": {
      "text/plain": [
       "0"
      ]
     },
     "execution_count": 3,
     "metadata": {},
     "output_type": "execute_result"
    }
   ],
   "source": [
    "df_training.duplicated().sum()"
   ]
  },
  {
   "cell_type": "code",
   "execution_count": 4,
   "metadata": {},
   "outputs": [
    {
     "data": {
      "text/html": [
       "<div>\n",
       "<style scoped>\n",
       "    .dataframe tbody tr th:only-of-type {\n",
       "        vertical-align: middle;\n",
       "    }\n",
       "\n",
       "    .dataframe tbody tr th {\n",
       "        vertical-align: top;\n",
       "    }\n",
       "\n",
       "    .dataframe thead th {\n",
       "        text-align: right;\n",
       "    }\n",
       "</style>\n",
       "<table border=\"1\" class=\"dataframe\">\n",
       "  <thead>\n",
       "    <tr style=\"text-align: right;\">\n",
       "      <th></th>\n",
       "      <th>PassengerId</th>\n",
       "      <th>Survived</th>\n",
       "      <th>Pclass</th>\n",
       "      <th>Name</th>\n",
       "      <th>Sex</th>\n",
       "      <th>Age</th>\n",
       "      <th>SibSp</th>\n",
       "      <th>Parch</th>\n",
       "      <th>Ticket</th>\n",
       "      <th>Fare</th>\n",
       "      <th>Cabin</th>\n",
       "      <th>Embarked</th>\n",
       "    </tr>\n",
       "  </thead>\n",
       "  <tbody>\n",
       "    <tr>\n",
       "      <th>0</th>\n",
       "      <td>1</td>\n",
       "      <td>0</td>\n",
       "      <td>3</td>\n",
       "      <td>Braund, Mr. Owen Harris</td>\n",
       "      <td>male</td>\n",
       "      <td>22.0</td>\n",
       "      <td>1</td>\n",
       "      <td>0</td>\n",
       "      <td>A/5 21171</td>\n",
       "      <td>7.2500</td>\n",
       "      <td>NaN</td>\n",
       "      <td>S</td>\n",
       "    </tr>\n",
       "    <tr>\n",
       "      <th>1</th>\n",
       "      <td>2</td>\n",
       "      <td>1</td>\n",
       "      <td>1</td>\n",
       "      <td>Cumings, Mrs. John Bradley (Florence Briggs Th...</td>\n",
       "      <td>female</td>\n",
       "      <td>38.0</td>\n",
       "      <td>1</td>\n",
       "      <td>0</td>\n",
       "      <td>PC 17599</td>\n",
       "      <td>71.2833</td>\n",
       "      <td>C85</td>\n",
       "      <td>C</td>\n",
       "    </tr>\n",
       "    <tr>\n",
       "      <th>2</th>\n",
       "      <td>3</td>\n",
       "      <td>1</td>\n",
       "      <td>3</td>\n",
       "      <td>Heikkinen, Miss. Laina</td>\n",
       "      <td>female</td>\n",
       "      <td>26.0</td>\n",
       "      <td>0</td>\n",
       "      <td>0</td>\n",
       "      <td>STON/O2. 3101282</td>\n",
       "      <td>7.9250</td>\n",
       "      <td>NaN</td>\n",
       "      <td>S</td>\n",
       "    </tr>\n",
       "    <tr>\n",
       "      <th>3</th>\n",
       "      <td>4</td>\n",
       "      <td>1</td>\n",
       "      <td>1</td>\n",
       "      <td>Futrelle, Mrs. Jacques Heath (Lily May Peel)</td>\n",
       "      <td>female</td>\n",
       "      <td>35.0</td>\n",
       "      <td>1</td>\n",
       "      <td>0</td>\n",
       "      <td>113803</td>\n",
       "      <td>53.1000</td>\n",
       "      <td>C123</td>\n",
       "      <td>S</td>\n",
       "    </tr>\n",
       "    <tr>\n",
       "      <th>4</th>\n",
       "      <td>5</td>\n",
       "      <td>0</td>\n",
       "      <td>3</td>\n",
       "      <td>Allen, Mr. William Henry</td>\n",
       "      <td>male</td>\n",
       "      <td>35.0</td>\n",
       "      <td>0</td>\n",
       "      <td>0</td>\n",
       "      <td>373450</td>\n",
       "      <td>8.0500</td>\n",
       "      <td>NaN</td>\n",
       "      <td>S</td>\n",
       "    </tr>\n",
       "  </tbody>\n",
       "</table>\n",
       "</div>"
      ],
      "text/plain": [
       "   PassengerId  Survived  Pclass  \\\n",
       "0            1         0       3   \n",
       "1            2         1       1   \n",
       "2            3         1       3   \n",
       "3            4         1       1   \n",
       "4            5         0       3   \n",
       "\n",
       "                                                Name     Sex   Age  SibSp  \\\n",
       "0                            Braund, Mr. Owen Harris    male  22.0      1   \n",
       "1  Cumings, Mrs. John Bradley (Florence Briggs Th...  female  38.0      1   \n",
       "2                             Heikkinen, Miss. Laina  female  26.0      0   \n",
       "3       Futrelle, Mrs. Jacques Heath (Lily May Peel)  female  35.0      1   \n",
       "4                           Allen, Mr. William Henry    male  35.0      0   \n",
       "\n",
       "   Parch            Ticket     Fare Cabin Embarked  \n",
       "0      0         A/5 21171   7.2500   NaN        S  \n",
       "1      0          PC 17599  71.2833   C85        C  \n",
       "2      0  STON/O2. 3101282   7.9250   NaN        S  \n",
       "3      0            113803  53.1000  C123        S  \n",
       "4      0            373450   8.0500   NaN        S  "
      ]
     },
     "execution_count": 4,
     "metadata": {},
     "output_type": "execute_result"
    }
   ],
   "source": [
    "#Pclass = Ticket class,SibSP = No. spouses/siblings aboard the titanic, Parch = No. of parents/children\n",
    "df_training.head()"
   ]
  },
  {
   "cell_type": "code",
   "execution_count": 5,
   "metadata": {},
   "outputs": [
    {
     "name": "stdout",
     "output_type": "stream",
     "text": [
      "<class 'pandas.core.frame.DataFrame'>\n",
      "RangeIndex: 891 entries, 0 to 890\n",
      "Data columns (total 12 columns):\n",
      " #   Column       Non-Null Count  Dtype  \n",
      "---  ------       --------------  -----  \n",
      " 0   PassengerId  891 non-null    int64  \n",
      " 1   Survived     891 non-null    int64  \n",
      " 2   Pclass       891 non-null    int64  \n",
      " 3   Name         891 non-null    object \n",
      " 4   Sex          891 non-null    object \n",
      " 5   Age          714 non-null    float64\n",
      " 6   SibSp        891 non-null    int64  \n",
      " 7   Parch        891 non-null    int64  \n",
      " 8   Ticket       891 non-null    object \n",
      " 9   Fare         891 non-null    float64\n",
      " 10  Cabin        204 non-null    object \n",
      " 11  Embarked     889 non-null    object \n",
      "dtypes: float64(2), int64(5), object(5)\n",
      "memory usage: 83.7+ KB\n"
     ]
    }
   ],
   "source": [
    "#Checking the count of each values to determine the steps\n",
    "df_training.info()"
   ]
  },
  {
   "cell_type": "code",
   "execution_count": 6,
   "metadata": {},
   "outputs": [
    {
     "name": "stdout",
     "output_type": "stream",
     "text": [
      "<class 'pandas.core.frame.DataFrame'>\n",
      "RangeIndex: 418 entries, 0 to 417\n",
      "Data columns (total 11 columns):\n",
      " #   Column       Non-Null Count  Dtype  \n",
      "---  ------       --------------  -----  \n",
      " 0   PassengerId  418 non-null    int64  \n",
      " 1   Pclass       418 non-null    int64  \n",
      " 2   Name         418 non-null    object \n",
      " 3   Sex          418 non-null    object \n",
      " 4   Age          332 non-null    float64\n",
      " 5   SibSp        418 non-null    int64  \n",
      " 6   Parch        418 non-null    int64  \n",
      " 7   Ticket       418 non-null    object \n",
      " 8   Fare         417 non-null    float64\n",
      " 9   Cabin        91 non-null     object \n",
      " 10  Embarked     418 non-null    object \n",
      "dtypes: float64(2), int64(4), object(5)\n",
      "memory usage: 36.0+ KB\n"
     ]
    }
   ],
   "source": [
    "df_test.info()"
   ]
  },
  {
   "cell_type": "code",
   "execution_count": 7,
   "metadata": {},
   "outputs": [
    {
     "name": "stdout",
     "output_type": "stream",
     "text": [
      "PassengerId      0\n",
      "Survived         0\n",
      "Pclass           0\n",
      "Name             0\n",
      "Sex              0\n",
      "Age            177\n",
      "SibSp            0\n",
      "Parch            0\n",
      "Ticket           0\n",
      "Fare             0\n",
      "Cabin          687\n",
      "Embarked         2\n",
      "dtype: int64\n"
     ]
    }
   ],
   "source": [
    "#Continuation of Last Cell\n",
    "print(df_training.isnull().sum())"
   ]
  },
  {
   "cell_type": "code",
   "execution_count": 8,
   "metadata": {},
   "outputs": [
    {
     "name": "stdout",
     "output_type": "stream",
     "text": [
      "PassengerId      0\n",
      "Pclass           0\n",
      "Name             0\n",
      "Sex              0\n",
      "Age             86\n",
      "SibSp            0\n",
      "Parch            0\n",
      "Ticket           0\n",
      "Fare             1\n",
      "Cabin          327\n",
      "Embarked         0\n",
      "dtype: int64\n"
     ]
    }
   ],
   "source": [
    "print(df_test.isnull().sum())"
   ]
  },
  {
   "cell_type": "code",
   "execution_count": 9,
   "metadata": {},
   "outputs": [],
   "source": [
    "#Importing Imputer to deal with missing values and creating the imputer\n",
    "from sklearn.impute import SimpleImputer\n",
    "age_imputer = SimpleImputer(strategy='mean')\n",
    "embarked_impute = SimpleImputer(strategy='most_frequent')\n",
    "fare_impute = SimpleImputer(strategy='mean')"
   ]
  },
  {
   "cell_type": "code",
   "execution_count": 10,
   "metadata": {},
   "outputs": [],
   "source": [
    "#Imputing Missing Values\n",
    "df_training['Age'] = age_imputer.fit_transform(df_training['Age'].values.reshape(-1,1))\n",
    "df_training['Embarked'] = embarked_impute.fit_transform(df_training['Embarked'].values.reshape(-1,1))\n",
    "df_test['Fare'] = fare_impute.fit_transform(df_test['Fare'].values.reshape(-1,1))"
   ]
  },
  {
   "cell_type": "code",
   "execution_count": 11,
   "metadata": {},
   "outputs": [
    {
     "data": {
      "text/plain": [
       "PassengerId      0\n",
       "Survived         0\n",
       "Pclass           0\n",
       "Name             0\n",
       "Sex              0\n",
       "Age              0\n",
       "SibSp            0\n",
       "Parch            0\n",
       "Ticket           0\n",
       "Fare             0\n",
       "Cabin          687\n",
       "Embarked         0\n",
       "dtype: int64"
      ]
     },
     "execution_count": 11,
     "metadata": {},
     "output_type": "execute_result"
    }
   ],
   "source": [
    "#Checking for null values\n",
    "df_training.isnull().sum()"
   ]
  },
  {
   "cell_type": "code",
   "execution_count": 12,
   "metadata": {},
   "outputs": [
    {
     "data": {
      "text/plain": [
       "<seaborn.axisgrid.FacetGrid at 0x19633ab3510>"
      ]
     },
     "execution_count": 12,
     "metadata": {},
     "output_type": "execute_result"
    },
    {
     "data": {
      "image/png": "[encoded data removed]",
      "text/plain": [
       "<Figure size 500x500 with 1 Axes>"
      ]
     },
     "metadata": {},
     "output_type": "display_data"
    }
   ],
   "source": [
    "#Checking the passengers on the Titanic\n",
    "sns.catplot(x='Sex',data=df_training,kind='count',palette='Set2',hue='Sex',legend=False)"
   ]
  },
  {
   "cell_type": "code",
   "execution_count": 13,
   "metadata": {},
   "outputs": [
    {
     "name": "stdout",
     "output_type": "stream",
     "text": [
      "Women Survival Rate= 0.74\n",
      "Men Survival Rate= 0.19\n"
     ]
    }
   ],
   "source": [
    "#Checking the Survival rate by gender\n",
    "\n",
    "women = df_training[df_training['Sex']=='female'][\"Survived\"]\n",
    "women_survival_rate = (sum(women)/len(women)).__round__(2)\n",
    "men = df_training[df_training['Sex']=='male'][\"Survived\"]\n",
    "men_survival_rate = (sum(men)/len(men)).__round__(2)\n",
    "print(\"Women Survival Rate=\",women_survival_rate)\n",
    "print(\"Men Survival Rate=\",men_survival_rate)"
   ]
  },
  {
   "cell_type": "code",
   "execution_count": 14,
   "metadata": {},
   "outputs": [
    {
     "name": "stdout",
     "output_type": "stream",
     "text": [
      "Count of Children = 77\n",
      "Count of Youth = 199\n",
      "Count of Adults = 602\n",
      "Count of Seniors = 11\n"
     ]
    }
   ],
   "source": [
    "#Checking ages\n",
    "print(\"Count of Children =\",df_training[df_training['Age'] <= 14].shape[0])\n",
    "print(\"Count of Youth =\", df_training[(df_training['Age'] >=15) & (df_training['Age'] <= 24)].shape[0])\n",
    "print(\"Count of Adults =\", df_training[(df_training['Age'] >= 25) & (df_training['Age'] <= 64)].shape[0])\n",
    "print(\"Count of Seniors =\",df_training[df_training['Age']>= 65.0].shape[0])"
   ]
  },
  {
   "cell_type": "code",
   "execution_count": 15,
   "metadata": {},
   "outputs": [
    {
     "data": {
      "text/plain": [
       "2    602\n",
       "1    199\n",
       "0     77\n",
       "3     13\n",
       "Name: Age_bracket, dtype: int64"
      ]
     },
     "execution_count": 15,
     "metadata": {},
     "output_type": "execute_result"
    }
   ],
   "source": [
    "#Creating age Brackets\n",
    "def age_brackets(row):\n",
    "    if row['Age'] <= 14.0:\n",
    "        return 0\n",
    "    elif (row['Age'] >= 15.0) & (row['Age'] <= 24.0):\n",
    "        return 1\n",
    "    elif (row['Age'] >= 25.0) & (row['Age'] <= 64.0):\n",
    "        return 2\n",
    "    else:\n",
    "        return 3\n",
    "\n",
    "df_training['Age_bracket'] = df_training.apply(age_brackets,axis=1)\n",
    "df_test['Age_bracket'] = df_test.apply(age_brackets,axis=1)\n",
    "df_training['Age_bracket'].value_counts()"
   ]
  },
  {
   "cell_type": "code",
   "execution_count": 16,
   "metadata": {},
   "outputs": [
    {
     "data": {
      "text/plain": [
       "<seaborn.axisgrid.FacetGrid at 0x196343d9b50>"
      ]
     },
     "execution_count": 16,
     "metadata": {},
     "output_type": "execute_result"
    },
    {
     "data": {
      "image/png": "[encoded data removed]",
      "text/plain": [
       "<Figure size 572.111x500 with 1 Axes>"
      ]
     },
     "metadata": {},
     "output_type": "display_data"
    }
   ],
   "source": [
    "#Checking Survival by age\n",
    "sns.catplot(data=df_training,x='Age_bracket',hue='Survived',kind='count')"
   ]
  },
  {
   "cell_type": "code",
   "execution_count": 17,
   "metadata": {},
   "outputs": [],
   "source": [
    "#Creating Family size and dropping sibsp and Parch columns\n",
    "\n",
    "df_training['Family Size'] = df_training['SibSp'] + df_training['Parch']\n",
    "df_test['Family Size'] = df_test['SibSp'] + df_test['Parch']\n",
    "\n",
    "df_training = df_training.drop(['SibSp','Parch'],axis=1)\n",
    "df_test = df_test.drop(['SibSp','Parch'],axis=1)"
   ]
  },
  {
   "cell_type": "code",
   "execution_count": 18,
   "metadata": {},
   "outputs": [
    {
     "name": "stderr",
     "output_type": "stream",
     "text": [
      "C:\\Users\\Vista\\AppData\\Local\\Temp\\ipykernel_26572\\3452919727.py:1: FutureWarning: The default value of numeric_only in DataFrame.corr is deprecated. In a future version, it will default to False. Select only valid columns or specify the value of numeric_only to silence this warning.\n",
      "  sns.heatmap(df_training.corr(),annot=True)\n"
     ]
    },
    {
     "data": {
      "text/plain": [
       "<AxesSubplot: >"
      ]
     },
     "execution_count": 18,
     "metadata": {},
     "output_type": "execute_result"
    },
    {
     "data": {
      "image/png": "[encoded data removed]",
      "text/plain": [
       "<Figure size 640x480 with 2 Axes>"
      ]
     },
     "metadata": {},
     "output_type": "display_data"
    }
   ],
   "source": [
    "sns.heatmap(df_training.corr(),annot=True)"
   ]
  },
  {
   "cell_type": "code",
   "execution_count": 19,
   "metadata": {},
   "outputs": [],
   "source": [
    "#One Hot Encoding the Embarked column\n",
    "from sklearn.preprocessing import OneHotEncoder\n",
    "from sklearn.compose import make_column_transformer\n",
    "\n",
    "transformer = make_column_transformer((OneHotEncoder(),['Embarked']),remainder='passthrough',verbose_feature_names_out=False)\n",
    "transformed = transformer.fit_transform(df_training)\n",
    "df_training = pd.DataFrame(transformed,columns=transformer.get_feature_names_out())\n",
    "transformed_test = transformer.fit_transform(df_test)\n",
    "df_test = pd.DataFrame(transformed_test,columns=transformer.get_feature_names_out())"
   ]
  },
  {
   "cell_type": "code",
   "execution_count": 20,
   "metadata": {},
   "outputs": [
    {
     "data": {
      "text/html": [
       "<div>\n",
       "<style scoped>\n",
       "    .dataframe tbody tr th:only-of-type {\n",
       "        vertical-align: middle;\n",
       "    }\n",
       "\n",
       "    .dataframe tbody tr th {\n",
       "        vertical-align: top;\n",
       "    }\n",
       "\n",
       "    .dataframe thead th {\n",
       "        text-align: right;\n",
       "    }\n",
       "</style>\n",
       "<table border=\"1\" class=\"dataframe\">\n",
       "  <thead>\n",
       "    <tr style=\"text-align: right;\">\n",
       "      <th></th>\n",
       "      <th>Embarked_C</th>\n",
       "      <th>Embarked_Q</th>\n",
       "      <th>Embarked_S</th>\n",
       "      <th>PassengerId</th>\n",
       "      <th>Survived</th>\n",
       "      <th>Pclass</th>\n",
       "      <th>Name</th>\n",
       "      <th>Sex</th>\n",
       "      <th>Age</th>\n",
       "      <th>Ticket</th>\n",
       "      <th>Fare</th>\n",
       "      <th>Cabin</th>\n",
       "      <th>Age_bracket</th>\n",
       "      <th>Family Size</th>\n",
       "    </tr>\n",
       "  </thead>\n",
       "  <tbody>\n",
       "    <tr>\n",
       "      <th>0</th>\n",
       "      <td>0.0</td>\n",
       "      <td>0.0</td>\n",
       "      <td>1.0</td>\n",
       "      <td>1</td>\n",
       "      <td>0</td>\n",
       "      <td>3</td>\n",
       "      <td>Braund, Mr. Owen Harris</td>\n",
       "      <td>male</td>\n",
       "      <td>22.0</td>\n",
       "      <td>A/5 21171</td>\n",
       "      <td>7.25</td>\n",
       "      <td>NaN</td>\n",
       "      <td>1</td>\n",
       "      <td>1</td>\n",
       "    </tr>\n",
       "    <tr>\n",
       "      <th>1</th>\n",
       "      <td>1.0</td>\n",
       "      <td>0.0</td>\n",
       "      <td>0.0</td>\n",
       "      <td>2</td>\n",
       "      <td>1</td>\n",
       "      <td>1</td>\n",
       "      <td>Cumings, Mrs. John Bradley (Florence Briggs Th...</td>\n",
       "      <td>female</td>\n",
       "      <td>38.0</td>\n",
       "      <td>PC 17599</td>\n",
       "      <td>71.2833</td>\n",
       "      <td>C85</td>\n",
       "      <td>2</td>\n",
       "      <td>1</td>\n",
       "    </tr>\n",
       "    <tr>\n",
       "      <th>2</th>\n",
       "      <td>0.0</td>\n",
       "      <td>0.0</td>\n",
       "      <td>1.0</td>\n",
       "      <td>3</td>\n",
       "      <td>1</td>\n",
       "      <td>3</td>\n",
       "      <td>Heikkinen, Miss. Laina</td>\n",
       "      <td>female</td>\n",
       "      <td>26.0</td>\n",
       "      <td>STON/O2. 3101282</td>\n",
       "      <td>7.925</td>\n",
       "      <td>NaN</td>\n",
       "      <td>2</td>\n",
       "      <td>0</td>\n",
       "    </tr>\n",
       "    <tr>\n",
       "      <th>3</th>\n",
       "      <td>0.0</td>\n",
       "      <td>0.0</td>\n",
       "      <td>1.0</td>\n",
       "      <td>4</td>\n",
       "      <td>1</td>\n",
       "      <td>1</td>\n",
       "      <td>Futrelle, Mrs. Jacques Heath (Lily May Peel)</td>\n",
       "      <td>female</td>\n",
       "      <td>35.0</td>\n",
       "      <td>113803</td>\n",
       "      <td>53.1</td>\n",
       "      <td>C123</td>\n",
       "      <td>2</td>\n",
       "      <td>1</td>\n",
       "    </tr>\n",
       "    <tr>\n",
       "      <th>4</th>\n",
       "      <td>0.0</td>\n",
       "      <td>0.0</td>\n",
       "      <td>1.0</td>\n",
       "      <td>5</td>\n",
       "      <td>0</td>\n",
       "      <td>3</td>\n",
       "      <td>Allen, Mr. William Henry</td>\n",
       "      <td>male</td>\n",
       "      <td>35.0</td>\n",
       "      <td>373450</td>\n",
       "      <td>8.05</td>\n",
       "      <td>NaN</td>\n",
       "      <td>2</td>\n",
       "      <td>0</td>\n",
       "    </tr>\n",
       "  </tbody>\n",
       "</table>\n",
       "</div>"
      ],
      "text/plain": [
       "  Embarked_C Embarked_Q Embarked_S PassengerId Survived Pclass  \\\n",
       "0        0.0        0.0        1.0           1        0      3   \n",
       "1        1.0        0.0        0.0           2        1      1   \n",
       "2        0.0        0.0        1.0           3        1      3   \n",
       "3        0.0        0.0        1.0           4        1      1   \n",
       "4        0.0        0.0        1.0           5        0      3   \n",
       "\n",
       "                                                Name     Sex   Age  \\\n",
       "0                            Braund, Mr. Owen Harris    male  22.0   \n",
       "1  Cumings, Mrs. John Bradley (Florence Briggs Th...  female  38.0   \n",
       "2                             Heikkinen, Miss. Laina  female  26.0   \n",
       "3       Futrelle, Mrs. Jacques Heath (Lily May Peel)  female  35.0   \n",
       "4                           Allen, Mr. William Henry    male  35.0   \n",
       "\n",
       "             Ticket     Fare Cabin Age_bracket Family Size  \n",
       "0         A/5 21171     7.25   NaN           1           1  \n",
       "1          PC 17599  71.2833   C85           2           1  \n",
       "2  STON/O2. 3101282    7.925   NaN           2           0  \n",
       "3            113803     53.1  C123           2           1  \n",
       "4            373450     8.05   NaN           2           0  "
      ]
     },
     "execution_count": 20,
     "metadata": {},
     "output_type": "execute_result"
    }
   ],
   "source": [
    "df_training.head()"
   ]
  },
  {
   "cell_type": "code",
   "execution_count": 21,
   "metadata": {},
   "outputs": [],
   "source": [
    "df_training['Sex'] = df_training['Sex'].apply(lambda x: 0 if x ==\"male\" else 1)\n",
    "df_test['Sex'] = df_test['Sex'].apply(lambda x: 0 if x ==\"male\" else 1)"
   ]
  },
  {
   "cell_type": "code",
   "execution_count": 22,
   "metadata": {},
   "outputs": [],
   "source": [
    "import re\n",
    "\n",
    "# Define the deck level dictionary\n",
    "deck = {\"A\": 1, \"B\": 2, \"C\": 3, \"D\": 4, \"E\": 5, \"F\": 6, \"G\": 7, \"U\": 8}\n",
    "\n",
    "# Create a list of datasets\n",
    "data = [df_training, df_test]\n",
    "\n",
    "for dataset in data:\n",
    "    # Fill missing Cabin values with 'U0'\n",
    "    dataset['Cabin'] = dataset['Cabin'].fillna(\"U0\")\n",
    "    \n",
    "    # Extract the first sequence of letters which represents the Deck and map it to a number\n",
    "    dataset['Deck'] = dataset['Cabin'].map(lambda x: re.compile(\"([a-zA-Z]+)\").search(x).group())\n",
    "    dataset['Deck'] = dataset['Deck'].map(deck)\n",
    "    \n",
    "    # Fill missing Deck values with 0\n",
    "    dataset['Deck'] = dataset['Deck'].fillna(0)\n",
    "    \n",
    "    # Convert Deck to an integer type\n",
    "    dataset['Deck'] = dataset['Deck'].astype(int)\n",
    "    \n",
    "    # Drop the Cabin column as it's no longer needed\n",
    "    dataset.drop(['Cabin'], axis=1, inplace=True)"
   ]
  },
  {
   "cell_type": "code",
   "execution_count": 23,
   "metadata": {},
   "outputs": [],
   "source": [
    "df_training = df_training.drop(df_training[df_training['Fare']>=150].index)"
   ]
  },
  {
   "cell_type": "code",
   "execution_count": 24,
   "metadata": {},
   "outputs": [],
   "source": [
    "from sklearn.linear_model import LogisticRegression\n",
    "from sklearn.metrics import r2_score,accuracy_score,f1_score,precision_score,recall_score,confusion_matrix\n",
    "from sklearn.preprocessing import MinMaxScaler\n",
    "from sklearn.model_selection import train_test_split"
   ]
  },
  {
   "cell_type": "code",
   "execution_count": 25,
   "metadata": {},
   "outputs": [],
   "source": [
    "x_train = df_training.drop(['Survived','Age','Name','PassengerId','Ticket'],axis=1)\n",
    "y_train = df_training['Survived']\n"
   ]
  },
  {
   "cell_type": "code",
   "execution_count": 26,
   "metadata": {},
   "outputs": [],
   "source": [
    "scaler = MinMaxScaler()\n",
    "x_train = scaler.fit_transform(x_train)"
   ]
  },
  {
   "cell_type": "code",
   "execution_count": 27,
   "metadata": {},
   "outputs": [
    {
     "name": "stdout",
     "output_type": "stream",
     "text": [
      "Data type of y_train: object\n",
      "Unique values in y_train: [0 1]\n"
     ]
    }
   ],
   "source": [
    "print(\"Data type of y_train:\", y_train.dtype)\n",
    "print(\"Unique values in y_train:\", np.unique(y_train))"
   ]
  },
  {
   "cell_type": "code",
   "execution_count": 28,
   "metadata": {},
   "outputs": [],
   "source": [
    "y_train = pd.to_numeric(y_train)"
   ]
  },
  {
   "cell_type": "code",
   "execution_count": 29,
   "metadata": {},
   "outputs": [
    {
     "data": {
      "text/html": [
       "<style>#sk-container-id-1 {color: black;background-color: white;}#sk-container-id-1 pre{padding: 0;}#sk-container-id-1 div.sk-toggleable {background-color: white;}#sk-container-id-1 label.sk-toggleable__label {cursor: pointer;display: block;width: 100%;margin-bottom: 0;padding: 0.3em;box-sizing: border-box;text-align: center;}#sk-container-id-1 label.sk-toggleable__label-arrow:before {content: \"▸\";float: left;margin-right: 0.25em;color: #696969;}#sk-container-id-1 label.sk-toggleable__label-arrow:hover:before {color: black;}#sk-container-id-1 div.sk-estimator:hover label.sk-toggleable__label-arrow:before {color: black;}#sk-container-id-1 div.sk-toggleable__content {max-height: 0;max-width: 0;overflow: hidden;text-align: left;background-color: #f0f8ff;}#sk-container-id-1 div.sk-toggleable__content pre {margin: 0.2em;color: black;border-radius: 0.25em;background-color: #f0f8ff;}#sk-container-id-1 input.sk-toggleable__control:checked~div.sk-toggleable__content {max-height: 200px;max-width: 100%;overflow: auto;}#sk-container-id-1 input.sk-toggleable__control:checked~label.sk-toggleable__label-arrow:before {content: \"▾\";}#sk-container-id-1 div.sk-estimator input.sk-toggleable__control:checked~label.sk-toggleable__label {background-color: #d4ebff;}#sk-container-id-1 div.sk-label input.sk-toggleable__control:checked~label.sk-toggleable__label {background-color: #d4ebff;}#sk-container-id-1 input.sk-hidden--visually {border: 0;clip: rect(1px 1px 1px 1px);clip: rect(1px, 1px, 1px, 1px);height: 1px;margin: -1px;overflow: hidden;padding: 0;position: absolute;width: 1px;}#sk-container-id-1 div.sk-estimator {font-family: monospace;background-color: #f0f8ff;border: 1px dotted black;border-radius: 0.25em;box-sizing: border-box;margin-bottom: 0.5em;}#sk-container-id-1 div.sk-estimator:hover {background-color: #d4ebff;}#sk-container-id-1 div.sk-parallel-item::after {content: \"\";width: 100%;border-bottom: 1px solid gray;flex-grow: 1;}#sk-container-id-1 div.sk-label:hover label.sk-toggleable__label {background-color: #d4ebff;}#sk-container-id-1 div.sk-serial::before {content: \"\";position: absolute;border-left: 1px solid gray;box-sizing: border-box;top: 0;bottom: 0;left: 50%;z-index: 0;}#sk-container-id-1 div.sk-serial {display: flex;flex-direction: column;align-items: center;background-color: white;padding-right: 0.2em;padding-left: 0.2em;position: relative;}#sk-container-id-1 div.sk-item {position: relative;z-index: 1;}#sk-container-id-1 div.sk-parallel {display: flex;align-items: stretch;justify-content: center;background-color: white;position: relative;}#sk-container-id-1 div.sk-item::before, #sk-container-id-1 div.sk-parallel-item::before {content: \"\";position: absolute;border-left: 1px solid gray;box-sizing: border-box;top: 0;bottom: 0;left: 50%;z-index: -1;}#sk-container-id-1 div.sk-parallel-item {display: flex;flex-direction: column;z-index: 1;position: relative;background-color: white;}#sk-container-id-1 div.sk-parallel-item:first-child::after {align-self: flex-end;width: 50%;}#sk-container-id-1 div.sk-parallel-item:last-child::after {align-self: flex-start;width: 50%;}#sk-container-id-1 div.sk-parallel-item:only-child::after {width: 0;}#sk-container-id-1 div.sk-dashed-wrapped {border: 1px dashed gray;margin: 0 0.4em 0.5em 0.4em;box-sizing: border-box;padding-bottom: 0.4em;background-color: white;}#sk-container-id-1 div.sk-label label {font-family: monospace;font-weight: bold;display: inline-block;line-height: 1.2em;}#sk-container-id-1 div.sk-label-container {text-align: center;}#sk-container-id-1 div.sk-container {/* jupyter's `normalize.less` sets `[hidden] { display: none; }` but bootstrap.min.css set `[hidden] { display: none !important; }` so we also need the `!important` here to be able to override the default hidden behavior on the sphinx rendered scikit-learn.org. See: https://github.com/scikit-learn/scikit-learn/issues/21755 */display: inline-block !important;position: relative;}#sk-container-id-1 div.sk-text-repr-fallback {display: none;}</style><div id=\"sk-container-id-1\" class=\"sk-top-container\"><div class=\"sk-text-repr-fallback\"><pre>LogisticRegression(max_iter=1000, solver=&#x27;saga&#x27;)</pre><b>In a Jupyter environment, please rerun this cell to show the HTML representation or trust the notebook. <br />On GitHub, the HTML representation is unable to render, please try loading this page with nbviewer.org.</b></div><div class=\"sk-container\" hidden><div class=\"sk-item\"><div class=\"sk-estimator sk-toggleable\"><input class=\"sk-toggleable__control sk-hidden--visually\" id=\"sk-estimator-id-1\" type=\"checkbox\" checked><label for=\"sk-estimator-id-1\" class=\"sk-toggleable__label sk-toggleable__label-arrow\">LogisticRegression</label><div class=\"sk-toggleable__content\"><pre>LogisticRegression(max_iter=1000, solver=&#x27;saga&#x27;)</pre></div></div></div></div></div>"
      ],
      "text/plain": [
       "LogisticRegression(max_iter=1000, solver='saga')"
      ]
     },
     "execution_count": 29,
     "metadata": {},
     "output_type": "execute_result"
    }
   ],
   "source": [
    "logreg = LogisticRegression(max_iter=1000,solver='saga',penalty='l2')\n",
    "logreg.fit(x_train,y_train)"
   ]
  },
  {
   "cell_type": "code",
   "execution_count": 30,
   "metadata": {},
   "outputs": [
    {
     "data": {
      "text/plain": [
       "0.802784222737819"
      ]
     },
     "execution_count": 30,
     "metadata": {},
     "output_type": "execute_result"
    }
   ],
   "source": [
    "y_train_pred = logreg.predict(x_train)\n",
    "acc = accuracy_score(y_train,y_train_pred)\n",
    "acc"
   ]
  },
  {
   "cell_type": "code",
   "execution_count": 31,
   "metadata": {},
   "outputs": [],
   "source": [
    "x_test = df_test.drop(['Age','Name','PassengerId','Ticket'],axis=1)\n",
    "id = df_test['PassengerId']"
   ]
  },
  {
   "cell_type": "code",
   "execution_count": 32,
   "metadata": {},
   "outputs": [],
   "source": [
    "x_test = scaler.transform(x_test)"
   ]
  },
  {
   "cell_type": "code",
   "execution_count": 33,
   "metadata": {},
   "outputs": [],
   "source": [
    "y_test_pred = logreg.predict(x_test)"
   ]
  },
  {
   "cell_type": "code",
   "execution_count": 34,
   "metadata": {},
   "outputs": [],
   "source": [
    "df_pred = pd.DataFrame(y_test_pred,columns=['Survived'])\n",
    "df_submission = pd.concat([id,df_pred],axis=1)"
   ]
  },
  {
   "cell_type": "code",
   "execution_count": 35,
   "metadata": {},
   "outputs": [
    {
     "data": {
      "text/html": [
       "<div>\n",
       "<style scoped>\n",
       "    .dataframe tbody tr th:only-of-type {\n",
       "        vertical-align: middle;\n",
       "    }\n",
       "\n",
       "    .dataframe tbody tr th {\n",
       "        vertical-align: top;\n",
       "    }\n",
       "\n",
       "    .dataframe thead th {\n",
       "        text-align: right;\n",
       "    }\n",
       "</style>\n",
       "<table border=\"1\" class=\"dataframe\">\n",
       "  <thead>\n",
       "    <tr style=\"text-align: right;\">\n",
       "      <th></th>\n",
       "      <th>PassengerId</th>\n",
       "      <th>Survived</th>\n",
       "    </tr>\n",
       "  </thead>\n",
       "  <tbody>\n",
       "    <tr>\n",
       "      <th>0</th>\n",
       "      <td>892</td>\n",
       "      <td>0</td>\n",
       "    </tr>\n",
       "    <tr>\n",
       "      <th>1</th>\n",
       "      <td>893</td>\n",
       "      <td>1</td>\n",
       "    </tr>\n",
       "    <tr>\n",
       "      <th>2</th>\n",
       "      <td>894</td>\n",
       "      <td>0</td>\n",
       "    </tr>\n",
       "    <tr>\n",
       "      <th>3</th>\n",
       "      <td>895</td>\n",
       "      <td>0</td>\n",
       "    </tr>\n",
       "    <tr>\n",
       "      <th>4</th>\n",
       "      <td>896</td>\n",
       "      <td>1</td>\n",
       "    </tr>\n",
       "    <tr>\n",
       "      <th>...</th>\n",
       "      <td>...</td>\n",
       "      <td>...</td>\n",
       "    </tr>\n",
       "    <tr>\n",
       "      <th>413</th>\n",
       "      <td>1305</td>\n",
       "      <td>0</td>\n",
       "    </tr>\n",
       "    <tr>\n",
       "      <th>414</th>\n",
       "      <td>1306</td>\n",
       "      <td>1</td>\n",
       "    </tr>\n",
       "    <tr>\n",
       "      <th>415</th>\n",
       "      <td>1307</td>\n",
       "      <td>0</td>\n",
       "    </tr>\n",
       "    <tr>\n",
       "      <th>416</th>\n",
       "      <td>1308</td>\n",
       "      <td>0</td>\n",
       "    </tr>\n",
       "    <tr>\n",
       "      <th>417</th>\n",
       "      <td>1309</td>\n",
       "      <td>0</td>\n",
       "    </tr>\n",
       "  </tbody>\n",
       "</table>\n",
       "<p>418 rows × 2 columns</p>\n",
       "</div>"
      ],
      "text/plain": [
       "    PassengerId  Survived\n",
       "0           892         0\n",
       "1           893         1\n",
       "2           894         0\n",
       "3           895         0\n",
       "4           896         1\n",
       "..          ...       ...\n",
       "413        1305         0\n",
       "414        1306         1\n",
       "415        1307         0\n",
       "416        1308         0\n",
       "417        1309         0\n",
       "\n",
       "[418 rows x 2 columns]"
      ]
     },
     "execution_count": 35,
     "metadata": {},
     "output_type": "execute_result"
    }
   ],
   "source": [
    "df_submission"
   ]
  },
  {
   "cell_type": "code",
   "execution_count": 36,
   "metadata": {},
   "outputs": [],
   "source": [
    "#df_submission.to_csv('submission.csv',index=False)"
   ]
  },
  {
   "cell_type": "code",
   "execution_count": 37,
   "metadata": {},
   "outputs": [],
   "source": [
    "x_train = x_train.astype(int)\n",
    "x_test = x_test.astype(int)"
   ]
  },
  {
   "cell_type": "code",
   "execution_count": 38,
   "metadata": {},
   "outputs": [],
   "source": [
    "#Using Tensorflow for the model\n",
    "import tensorflow as tf"
   ]
  },
  {
   "cell_type": "code",
   "execution_count": 39,
   "metadata": {},
   "outputs": [
    {
     "name": "stdout",
     "output_type": "stream",
     "text": [
      "Epoch 1/100\n"
     ]
    },
    {
     "name": "stderr",
     "output_type": "stream",
     "text": [
      "c:\\Users\\Vista\\AppData\\Local\\Programs\\Python\\Python311\\Lib\\site-packages\\keras\\engine\\data_adapter.py:1700: FutureWarning: The behavior of `series[i:j]` with an integer-dtype index is deprecated. In a future version, this will be treated as *label-based* indexing, consistent with e.g. `series[i]` lookups. To retain the old behavior, use `series.iloc[i:j]`. To get the future behavior, use `series.loc[i:j]`.\n",
      "  return t[start:end]\n"
     ]
    },
    {
     "name": "stdout",
     "output_type": "stream",
     "text": [
      "14/14 [==============================] - 1s 13ms/step - loss: 0.6665 - accuracy: 0.5704 - val_loss: 0.6404 - val_accuracy: 0.6705\n",
      "Epoch 2/100\n",
      "14/14 [==============================] - 0s 3ms/step - loss: 0.6506 - accuracy: 0.6183 - val_loss: 0.6223 - val_accuracy: 0.6647\n",
      "Epoch 3/100\n",
      "14/14 [==============================] - 0s 3ms/step - loss: 0.6387 - accuracy: 0.6430 - val_loss: 0.6093 - val_accuracy: 0.6821\n",
      "Epoch 4/100\n",
      "14/14 [==============================] - 0s 3ms/step - loss: 0.6297 - accuracy: 0.6531 - val_loss: 0.5997 - val_accuracy: 0.6821\n",
      "Epoch 5/100\n",
      "14/14 [==============================] - 0s 3ms/step - loss: 0.6220 - accuracy: 0.6531 - val_loss: 0.5914 - val_accuracy: 0.6821\n",
      "Epoch 6/100\n",
      "14/14 [==============================] - 0s 3ms/step - loss: 0.6149 - accuracy: 0.6531 - val_loss: 0.5840 - val_accuracy: 0.6821\n",
      "Epoch 7/100\n",
      "14/14 [==============================] - 0s 3ms/step - loss: 0.6089 - accuracy: 0.6546 - val_loss: 0.5779 - val_accuracy: 0.6994\n",
      "Epoch 8/100\n",
      "14/14 [==============================] - 0s 3ms/step - loss: 0.6031 - accuracy: 0.6691 - val_loss: 0.5718 - val_accuracy: 0.6994\n",
      "Epoch 9/100\n",
      "14/14 [==============================] - 0s 3ms/step - loss: 0.5975 - accuracy: 0.6691 - val_loss: 0.5664 - val_accuracy: 0.6994\n",
      "Epoch 10/100\n",
      "14/14 [==============================] - 0s 3ms/step - loss: 0.5916 - accuracy: 0.6691 - val_loss: 0.5597 - val_accuracy: 0.6994\n",
      "Epoch 11/100\n",
      "14/14 [==============================] - 0s 3ms/step - loss: 0.5858 - accuracy: 0.6691 - val_loss: 0.5535 - val_accuracy: 0.6994\n",
      "Epoch 12/100\n",
      "14/14 [==============================] - 0s 3ms/step - loss: 0.5801 - accuracy: 0.6894 - val_loss: 0.5480 - val_accuracy: 0.7688\n",
      "Epoch 13/100\n",
      "14/14 [==============================] - 0s 3ms/step - loss: 0.5744 - accuracy: 0.7155 - val_loss: 0.5419 - val_accuracy: 0.7746\n",
      "Epoch 14/100\n",
      "14/14 [==============================] - 0s 3ms/step - loss: 0.5685 - accuracy: 0.7155 - val_loss: 0.5363 - val_accuracy: 0.7746\n",
      "Epoch 15/100\n",
      "14/14 [==============================] - 0s 3ms/step - loss: 0.5632 - accuracy: 0.7126 - val_loss: 0.5301 - val_accuracy: 0.7746\n",
      "Epoch 16/100\n",
      "14/14 [==============================] - 0s 3ms/step - loss: 0.5579 - accuracy: 0.7300 - val_loss: 0.5248 - val_accuracy: 0.8208\n",
      "Epoch 17/100\n",
      "14/14 [==============================] - 0s 3ms/step - loss: 0.5527 - accuracy: 0.7779 - val_loss: 0.5191 - val_accuracy: 0.8208\n",
      "Epoch 18/100\n",
      "14/14 [==============================] - 0s 3ms/step - loss: 0.5475 - accuracy: 0.7721 - val_loss: 0.5137 - val_accuracy: 0.8208\n",
      "Epoch 19/100\n",
      "14/14 [==============================] - 0s 3ms/step - loss: 0.5429 - accuracy: 0.7794 - val_loss: 0.5097 - val_accuracy: 0.8092\n",
      "Epoch 20/100\n",
      "14/14 [==============================] - 0s 3ms/step - loss: 0.5381 - accuracy: 0.7721 - val_loss: 0.5050 - val_accuracy: 0.8266\n",
      "Epoch 21/100\n",
      "14/14 [==============================] - 0s 3ms/step - loss: 0.5338 - accuracy: 0.7896 - val_loss: 0.5005 - val_accuracy: 0.8208\n",
      "Epoch 22/100\n",
      "14/14 [==============================] - 0s 3ms/step - loss: 0.5294 - accuracy: 0.7939 - val_loss: 0.4966 - val_accuracy: 0.8266\n",
      "Epoch 23/100\n",
      "14/14 [==============================] - 0s 3ms/step - loss: 0.5253 - accuracy: 0.7939 - val_loss: 0.4925 - val_accuracy: 0.8266\n",
      "Epoch 24/100\n",
      "14/14 [==============================] - 0s 3ms/step - loss: 0.5215 - accuracy: 0.7939 - val_loss: 0.4884 - val_accuracy: 0.8266\n",
      "Epoch 25/100\n",
      "14/14 [==============================] - 0s 3ms/step - loss: 0.5178 - accuracy: 0.7983 - val_loss: 0.4858 - val_accuracy: 0.8266\n",
      "Epoch 26/100\n",
      "14/14 [==============================] - 0s 3ms/step - loss: 0.5148 - accuracy: 0.7939 - val_loss: 0.4827 - val_accuracy: 0.8266\n",
      "Epoch 27/100\n",
      "14/14 [==============================] - 0s 3ms/step - loss: 0.5112 - accuracy: 0.7939 - val_loss: 0.4790 - val_accuracy: 0.8266\n",
      "Epoch 28/100\n",
      "14/14 [==============================] - 0s 3ms/step - loss: 0.5081 - accuracy: 0.7939 - val_loss: 0.4763 - val_accuracy: 0.8266\n",
      "Epoch 29/100\n",
      "14/14 [==============================] - 0s 3ms/step - loss: 0.5048 - accuracy: 0.7939 - val_loss: 0.4726 - val_accuracy: 0.8266\n",
      "Epoch 30/100\n",
      "14/14 [==============================] - 0s 3ms/step - loss: 0.5021 - accuracy: 0.7939 - val_loss: 0.4696 - val_accuracy: 0.8382\n",
      "Epoch 31/100\n",
      "14/14 [==============================] - 0s 3ms/step - loss: 0.4995 - accuracy: 0.7939 - val_loss: 0.4675 - val_accuracy: 0.8266\n",
      "Epoch 32/100\n",
      "14/14 [==============================] - 0s 3ms/step - loss: 0.4969 - accuracy: 0.7939 - val_loss: 0.4650 - val_accuracy: 0.8382\n",
      "Epoch 33/100\n",
      "14/14 [==============================] - 0s 3ms/step - loss: 0.4945 - accuracy: 0.8012 - val_loss: 0.4624 - val_accuracy: 0.8382\n",
      "Epoch 34/100\n",
      "14/14 [==============================] - 0s 3ms/step - loss: 0.4924 - accuracy: 0.8041 - val_loss: 0.4605 - val_accuracy: 0.8382\n",
      "Epoch 35/100\n",
      "14/14 [==============================] - 0s 3ms/step - loss: 0.4903 - accuracy: 0.8012 - val_loss: 0.4585 - val_accuracy: 0.8382\n",
      "Epoch 36/100\n",
      "14/14 [==============================] - 0s 3ms/step - loss: 0.4882 - accuracy: 0.8084 - val_loss: 0.4577 - val_accuracy: 0.8382\n",
      "Epoch 37/100\n",
      "14/14 [==============================] - 0s 3ms/step - loss: 0.4868 - accuracy: 0.8026 - val_loss: 0.4557 - val_accuracy: 0.8382\n",
      "Epoch 38/100\n",
      "14/14 [==============================] - 0s 3ms/step - loss: 0.4848 - accuracy: 0.8026 - val_loss: 0.4538 - val_accuracy: 0.8382\n",
      "Epoch 39/100\n",
      "14/14 [==============================] - 0s 3ms/step - loss: 0.4830 - accuracy: 0.8084 - val_loss: 0.4523 - val_accuracy: 0.8382\n",
      "Epoch 40/100\n",
      "14/14 [==============================] - 0s 3ms/step - loss: 0.4818 - accuracy: 0.8084 - val_loss: 0.4510 - val_accuracy: 0.8382\n",
      "Epoch 41/100\n",
      "14/14 [==============================] - 0s 3ms/step - loss: 0.4801 - accuracy: 0.8084 - val_loss: 0.4494 - val_accuracy: 0.8382\n",
      "Epoch 42/100\n",
      "14/14 [==============================] - 0s 3ms/step - loss: 0.4789 - accuracy: 0.8084 - val_loss: 0.4484 - val_accuracy: 0.8382\n",
      "Epoch 43/100\n",
      "14/14 [==============================] - 0s 3ms/step - loss: 0.4776 - accuracy: 0.8084 - val_loss: 0.4475 - val_accuracy: 0.8382\n",
      "Epoch 44/100\n",
      "14/14 [==============================] - 0s 3ms/step - loss: 0.4762 - accuracy: 0.8084 - val_loss: 0.4453 - val_accuracy: 0.8382\n",
      "Epoch 45/100\n",
      "14/14 [==============================] - 0s 3ms/step - loss: 0.4754 - accuracy: 0.8084 - val_loss: 0.4445 - val_accuracy: 0.8382\n",
      "Epoch 46/100\n",
      "14/14 [==============================] - 0s 3ms/step - loss: 0.4744 - accuracy: 0.8084 - val_loss: 0.4434 - val_accuracy: 0.8382\n",
      "Epoch 47/100\n",
      "14/14 [==============================] - 0s 3ms/step - loss: 0.4727 - accuracy: 0.8084 - val_loss: 0.4424 - val_accuracy: 0.8382\n",
      "Epoch 48/100\n",
      "14/14 [==============================] - 0s 3ms/step - loss: 0.4717 - accuracy: 0.8084 - val_loss: 0.4413 - val_accuracy: 0.8382\n",
      "Epoch 49/100\n",
      "14/14 [==============================] - 0s 3ms/step - loss: 0.4707 - accuracy: 0.8084 - val_loss: 0.4401 - val_accuracy: 0.8382\n",
      "Epoch 50/100\n",
      "14/14 [==============================] - 0s 3ms/step - loss: 0.4698 - accuracy: 0.8084 - val_loss: 0.4399 - val_accuracy: 0.8382\n",
      "Epoch 51/100\n",
      "14/14 [==============================] - 0s 3ms/step - loss: 0.4691 - accuracy: 0.8070 - val_loss: 0.4387 - val_accuracy: 0.8382\n",
      "Epoch 52/100\n",
      "14/14 [==============================] - 0s 3ms/step - loss: 0.4680 - accuracy: 0.8084 - val_loss: 0.4378 - val_accuracy: 0.8382\n",
      "Epoch 53/100\n",
      "14/14 [==============================] - 0s 3ms/step - loss: 0.4675 - accuracy: 0.8084 - val_loss: 0.4373 - val_accuracy: 0.8382\n",
      "Epoch 54/100\n",
      "14/14 [==============================] - 0s 3ms/step - loss: 0.4669 - accuracy: 0.8084 - val_loss: 0.4364 - val_accuracy: 0.8382\n",
      "Epoch 55/100\n",
      "14/14 [==============================] - 0s 3ms/step - loss: 0.4659 - accuracy: 0.8084 - val_loss: 0.4357 - val_accuracy: 0.8382\n",
      "Epoch 56/100\n",
      "14/14 [==============================] - 0s 3ms/step - loss: 0.4652 - accuracy: 0.8084 - val_loss: 0.4350 - val_accuracy: 0.8382\n",
      "Epoch 57/100\n",
      "14/14 [==============================] - 0s 3ms/step - loss: 0.4648 - accuracy: 0.8084 - val_loss: 0.4349 - val_accuracy: 0.8266\n",
      "Epoch 58/100\n",
      "14/14 [==============================] - 0s 3ms/step - loss: 0.4640 - accuracy: 0.8070 - val_loss: 0.4335 - val_accuracy: 0.8382\n",
      "Epoch 59/100\n",
      "14/14 [==============================] - 0s 3ms/step - loss: 0.4631 - accuracy: 0.8084 - val_loss: 0.4331 - val_accuracy: 0.8382\n",
      "Epoch 60/100\n",
      "14/14 [==============================] - 0s 3ms/step - loss: 0.4630 - accuracy: 0.8070 - val_loss: 0.4326 - val_accuracy: 0.8382\n",
      "Epoch 61/100\n",
      "14/14 [==============================] - 0s 3ms/step - loss: 0.4622 - accuracy: 0.8070 - val_loss: 0.4320 - val_accuracy: 0.8266\n",
      "Epoch 62/100\n",
      "14/14 [==============================] - 0s 3ms/step - loss: 0.4616 - accuracy: 0.8070 - val_loss: 0.4310 - val_accuracy: 0.8382\n",
      "Epoch 63/100\n",
      "14/14 [==============================] - 0s 3ms/step - loss: 0.4609 - accuracy: 0.8070 - val_loss: 0.4304 - val_accuracy: 0.8382\n",
      "Epoch 64/100\n",
      "14/14 [==============================] - 0s 3ms/step - loss: 0.4602 - accuracy: 0.8084 - val_loss: 0.4308 - val_accuracy: 0.8266\n",
      "Epoch 65/100\n",
      "14/14 [==============================] - 0s 3ms/step - loss: 0.4606 - accuracy: 0.8084 - val_loss: 0.4300 - val_accuracy: 0.8382\n",
      "Epoch 66/100\n",
      "14/14 [==============================] - 0s 3ms/step - loss: 0.4596 - accuracy: 0.8070 - val_loss: 0.4291 - val_accuracy: 0.8382\n",
      "Epoch 67/100\n",
      "14/14 [==============================] - 0s 3ms/step - loss: 0.4591 - accuracy: 0.8084 - val_loss: 0.4292 - val_accuracy: 0.8382\n",
      "Epoch 68/100\n",
      "14/14 [==============================] - 0s 3ms/step - loss: 0.4585 - accuracy: 0.8084 - val_loss: 0.4300 - val_accuracy: 0.8266\n",
      "Epoch 69/100\n",
      "14/14 [==============================] - 0s 3ms/step - loss: 0.4583 - accuracy: 0.8070 - val_loss: 0.4289 - val_accuracy: 0.8266\n",
      "Epoch 70/100\n",
      "14/14 [==============================] - 0s 3ms/step - loss: 0.4577 - accuracy: 0.8070 - val_loss: 0.4284 - val_accuracy: 0.8266\n",
      "Epoch 71/100\n",
      "14/14 [==============================] - 0s 3ms/step - loss: 0.4577 - accuracy: 0.8070 - val_loss: 0.4280 - val_accuracy: 0.8382\n",
      "Epoch 72/100\n",
      "14/14 [==============================] - 0s 3ms/step - loss: 0.4570 - accuracy: 0.8070 - val_loss: 0.4277 - val_accuracy: 0.8382\n",
      "Epoch 73/100\n",
      "14/14 [==============================] - 0s 3ms/step - loss: 0.4568 - accuracy: 0.8070 - val_loss: 0.4274 - val_accuracy: 0.8266\n",
      "Epoch 74/100\n",
      "14/14 [==============================] - 0s 3ms/step - loss: 0.4561 - accuracy: 0.8070 - val_loss: 0.4269 - val_accuracy: 0.8382\n",
      "Epoch 75/100\n",
      "14/14 [==============================] - 0s 3ms/step - loss: 0.4559 - accuracy: 0.8070 - val_loss: 0.4266 - val_accuracy: 0.8382\n",
      "Epoch 76/100\n",
      "14/14 [==============================] - 0s 3ms/step - loss: 0.4556 - accuracy: 0.8070 - val_loss: 0.4259 - val_accuracy: 0.8382\n",
      "Epoch 77/100\n",
      "14/14 [==============================] - 0s 3ms/step - loss: 0.4554 - accuracy: 0.8070 - val_loss: 0.4254 - val_accuracy: 0.8382\n",
      "Epoch 78/100\n",
      "14/14 [==============================] - 0s 3ms/step - loss: 0.4548 - accuracy: 0.8084 - val_loss: 0.4257 - val_accuracy: 0.8382\n",
      "Epoch 79/100\n",
      "14/14 [==============================] - 0s 3ms/step - loss: 0.4547 - accuracy: 0.8070 - val_loss: 0.4257 - val_accuracy: 0.8382\n",
      "Epoch 80/100\n",
      "14/14 [==============================] - 0s 3ms/step - loss: 0.4542 - accuracy: 0.8070 - val_loss: 0.4251 - val_accuracy: 0.8382\n",
      "Epoch 81/100\n",
      "14/14 [==============================] - 0s 3ms/step - loss: 0.4538 - accuracy: 0.8084 - val_loss: 0.4255 - val_accuracy: 0.8382\n",
      "Epoch 82/100\n",
      "14/14 [==============================] - 0s 3ms/step - loss: 0.4541 - accuracy: 0.8070 - val_loss: 0.4249 - val_accuracy: 0.8382\n",
      "Epoch 83/100\n",
      "14/14 [==============================] - 0s 3ms/step - loss: 0.4536 - accuracy: 0.8070 - val_loss: 0.4246 - val_accuracy: 0.8382\n",
      "Epoch 84/100\n",
      "14/14 [==============================] - 0s 3ms/step - loss: 0.4532 - accuracy: 0.8084 - val_loss: 0.4249 - val_accuracy: 0.8382\n",
      "Epoch 85/100\n",
      "14/14 [==============================] - 0s 3ms/step - loss: 0.4532 - accuracy: 0.8070 - val_loss: 0.4246 - val_accuracy: 0.8382\n",
      "Epoch 86/100\n",
      "14/14 [==============================] - 0s 3ms/step - loss: 0.4529 - accuracy: 0.8084 - val_loss: 0.4244 - val_accuracy: 0.8382\n",
      "Epoch 87/100\n",
      "14/14 [==============================] - 0s 3ms/step - loss: 0.4528 - accuracy: 0.8070 - val_loss: 0.4246 - val_accuracy: 0.8266\n",
      "Epoch 88/100\n",
      "14/14 [==============================] - 0s 3ms/step - loss: 0.4524 - accuracy: 0.8070 - val_loss: 0.4237 - val_accuracy: 0.8382\n",
      "Epoch 89/100\n",
      "14/14 [==============================] - 0s 3ms/step - loss: 0.4523 - accuracy: 0.8084 - val_loss: 0.4235 - val_accuracy: 0.8382\n",
      "Epoch 90/100\n",
      "14/14 [==============================] - 0s 3ms/step - loss: 0.4522 - accuracy: 0.8084 - val_loss: 0.4237 - val_accuracy: 0.8382\n",
      "Epoch 91/100\n",
      "14/14 [==============================] - 0s 3ms/step - loss: 0.4519 - accuracy: 0.8070 - val_loss: 0.4235 - val_accuracy: 0.8382\n",
      "Epoch 92/100\n",
      "14/14 [==============================] - 0s 3ms/step - loss: 0.4518 - accuracy: 0.8070 - val_loss: 0.4236 - val_accuracy: 0.8382\n",
      "Epoch 93/100\n",
      "14/14 [==============================] - 0s 3ms/step - loss: 0.4517 - accuracy: 0.8070 - val_loss: 0.4229 - val_accuracy: 0.8382\n",
      "Epoch 94/100\n",
      "14/14 [==============================] - 0s 3ms/step - loss: 0.4511 - accuracy: 0.8084 - val_loss: 0.4229 - val_accuracy: 0.8382\n",
      "Epoch 95/100\n",
      "14/14 [==============================] - 0s 3ms/step - loss: 0.4513 - accuracy: 0.8084 - val_loss: 0.4233 - val_accuracy: 0.8382\n",
      "Epoch 96/100\n",
      "14/14 [==============================] - 0s 3ms/step - loss: 0.4508 - accuracy: 0.8070 - val_loss: 0.4225 - val_accuracy: 0.8382\n",
      "Epoch 97/100\n",
      "14/14 [==============================] - 0s 3ms/step - loss: 0.4506 - accuracy: 0.8084 - val_loss: 0.4227 - val_accuracy: 0.8382\n",
      "Epoch 98/100\n",
      "14/14 [==============================] - 0s 3ms/step - loss: 0.4503 - accuracy: 0.8084 - val_loss: 0.4225 - val_accuracy: 0.8382\n",
      "Epoch 99/100\n",
      "14/14 [==============================] - 0s 3ms/step - loss: 0.4502 - accuracy: 0.8070 - val_loss: 0.4220 - val_accuracy: 0.8382\n",
      "Epoch 100/100\n",
      "14/14 [==============================] - 0s 3ms/step - loss: 0.4502 - accuracy: 0.8084 - val_loss: 0.4219 - val_accuracy: 0.8382\n"
     ]
    }
   ],
   "source": [
    "#Tensorflow model\n",
    "model = tf.keras.Sequential()\n",
    "model.add(tf.keras.layers.Dense(64,activation='relu'))\n",
    "model.add(tf.keras.layers.Dense(32, activation='relu'))\n",
    "model.add(tf.keras.layers.Dense(2, activation='softmax'))\n",
    "model.compile(loss='sparse_categorical_crossentropy', optimizer='sgd', metrics=['accuracy'])\n",
    "history = model.fit(x_train, y_train, epochs=100, batch_size=50, validation_split=0.2)"
   ]
  },
  {
   "cell_type": "code",
   "execution_count": 40,
   "metadata": {},
   "outputs": [
    {
     "name": "stdout",
     "output_type": "stream",
     "text": [
      "14/14 [==============================] - 0s 690us/step\n"
     ]
    }
   ],
   "source": [
    "y_test_pred = model.predict(x_test)"
   ]
  },
  {
   "cell_type": "code",
   "execution_count": 41,
   "metadata": {},
   "outputs": [],
   "source": [
    "from sklearn.ensemble import RandomForestClassifier"
   ]
  },
  {
   "cell_type": "code",
   "execution_count": 42,
   "metadata": {},
   "outputs": [],
   "source": [
    "rf = RandomForestClassifier(criterion='entropy')"
   ]
  },
  {
   "cell_type": "code",
   "execution_count": 43,
   "metadata": {},
   "outputs": [],
   "source": [
    "rf.fit(x_train,y_train)\n",
    "y_rf_pred = rf.predict(x_train)"
   ]
  },
  {
   "cell_type": "code",
   "execution_count": 44,
   "metadata": {},
   "outputs": [
    {
     "data": {
      "text/plain": [
       "0.8155452436194895"
      ]
     },
     "execution_count": 44,
     "metadata": {},
     "output_type": "execute_result"
    }
   ],
   "source": [
    "acc_rf = accuracy_score(y_train,y_rf_pred)\n",
    "acc_rf"
   ]
  },
  {
   "cell_type": "code",
   "execution_count": 45,
   "metadata": {},
   "outputs": [],
   "source": [
    "y_rf_te_pred = rf.predict(x_test)"
   ]
  },
  {
   "cell_type": "code",
   "execution_count": 46,
   "metadata": {},
   "outputs": [],
   "source": [
    "df_pred_rf = pd.DataFrame(y_rf_te_pred,columns=['Survived'])\n",
    "df_submission_rf = pd.concat([id,df_pred],axis=1)"
   ]
  },
  {
   "cell_type": "code",
   "execution_count": 47,
   "metadata": {},
   "outputs": [],
   "source": [
    "df_submission.to_csv('submission.csv',index=False)"
   ]
  },
  {
   "cell_type": "code",
   "execution_count": 48,
   "metadata": {},
   "outputs": [
    {
     "name": "stdout",
     "output_type": "stream",
     "text": [
      "14/14 [==============================] - 0s 843us/step\n"
     ]
    }
   ],
   "source": [
    "import numpy as np\n",
    "\n",
    "# Assuming 'model' is your trained model and 'x_test' is your test dataset\n",
    "predictions = model.predict(x_test)\n",
    "\n",
    "# Convert probabilities to class labels\n",
    "predictions = np.argmax(predictions, axis=-1)\n",
    "\n",
    "# Create a DataFrame with PassengerId and Survived columns\n",
    "df_predictions = pd.DataFrame({\n",
    "    'PassengerId': df_test['PassengerId'],\n",
    "    'Survived': predictions\n",
    "})\n",
    "\n",
    "# Save to CSV file\n",
    "df_predictions.to_csv('predictions1.csv', index=False)"
   ]
  },
  {
   "cell_type": "code",
   "execution_count": 49,
   "metadata": {},
   "outputs": [
    {
     "name": "stdout",
     "output_type": "stream",
     "text": [
      "Epoch 1/100\n"
     ]
    },
    {
     "name": "stderr",
     "output_type": "stream",
     "text": [
      "c:\\Users\\Vista\\AppData\\Local\\Programs\\Python\\Python311\\Lib\\site-packages\\keras\\engine\\data_adapter.py:1700: FutureWarning: The behavior of `series[i:j]` with an integer-dtype index is deprecated. In a future version, this will be treated as *label-based* indexing, consistent with e.g. `series[i]` lookups. To retain the old behavior, use `series.iloc[i:j]`. To get the future behavior, use `series.loc[i:j]`.\n",
      "  return t[start:end]\n"
     ]
    },
    {
     "name": "stdout",
     "output_type": "stream",
     "text": [
      "14/14 [==============================] - 1s 14ms/step - loss: 1.2694 - accuracy: 0.5167 - val_loss: 0.7021 - val_accuracy: 0.6590\n",
      "Epoch 2/100\n",
      "14/14 [==============================] - 0s 4ms/step - loss: 0.9986 - accuracy: 0.6241 - val_loss: 0.6601 - val_accuracy: 0.6994\n",
      "Epoch 3/100\n",
      "14/14 [==============================] - 0s 4ms/step - loss: 0.8207 - accuracy: 0.7068 - val_loss: 0.6343 - val_accuracy: 0.6994\n",
      "Epoch 4/100\n",
      "14/14 [==============================] - 0s 4ms/step - loss: 0.7866 - accuracy: 0.7083 - val_loss: 0.6199 - val_accuracy: 0.6994\n",
      "Epoch 5/100\n",
      "14/14 [==============================] - 0s 3ms/step - loss: 0.7938 - accuracy: 0.7025 - val_loss: 0.6102 - val_accuracy: 0.6994\n",
      "Epoch 6/100\n",
      "14/14 [==============================] - 0s 3ms/step - loss: 0.7458 - accuracy: 0.7228 - val_loss: 0.6017 - val_accuracy: 0.6994\n",
      "Epoch 7/100\n",
      "14/14 [==============================] - 0s 3ms/step - loss: 0.7877 - accuracy: 0.7184 - val_loss: 0.5996 - val_accuracy: 0.6994\n",
      "Epoch 8/100\n",
      "14/14 [==============================] - 0s 3ms/step - loss: 0.7315 - accuracy: 0.7373 - val_loss: 0.5925 - val_accuracy: 0.6994\n",
      "Epoch 9/100\n",
      "14/14 [==============================] - 0s 3ms/step - loss: 0.6712 - accuracy: 0.7460 - val_loss: 0.5864 - val_accuracy: 0.7688\n",
      "Epoch 10/100\n",
      "14/14 [==============================] - 0s 3ms/step - loss: 0.6788 - accuracy: 0.7431 - val_loss: 0.5758 - val_accuracy: 0.7688\n",
      "Epoch 11/100\n",
      "14/14 [==============================] - 0s 3ms/step - loss: 0.6384 - accuracy: 0.7504 - val_loss: 0.5660 - val_accuracy: 0.7688\n",
      "Epoch 12/100\n",
      "14/14 [==============================] - 0s 3ms/step - loss: 0.6719 - accuracy: 0.7373 - val_loss: 0.5608 - val_accuracy: 0.7688\n",
      "Epoch 13/100\n",
      "14/14 [==============================] - 0s 3ms/step - loss: 0.6152 - accuracy: 0.7692 - val_loss: 0.5569 - val_accuracy: 0.7688\n",
      "Epoch 14/100\n",
      "14/14 [==============================] - 0s 3ms/step - loss: 0.6754 - accuracy: 0.7358 - val_loss: 0.5509 - val_accuracy: 0.7688\n",
      "Epoch 15/100\n",
      "14/14 [==============================] - 0s 3ms/step - loss: 0.6288 - accuracy: 0.7736 - val_loss: 0.5457 - val_accuracy: 0.7688\n",
      "Epoch 16/100\n",
      "14/14 [==============================] - 0s 3ms/step - loss: 0.6443 - accuracy: 0.7533 - val_loss: 0.5387 - val_accuracy: 0.8150\n",
      "Epoch 17/100\n",
      "14/14 [==============================] - 0s 3ms/step - loss: 0.6274 - accuracy: 0.7692 - val_loss: 0.5336 - val_accuracy: 0.8150\n",
      "Epoch 18/100\n",
      "14/14 [==============================] - 0s 4ms/step - loss: 0.6493 - accuracy: 0.7460 - val_loss: 0.5272 - val_accuracy: 0.8150\n",
      "Epoch 19/100\n",
      "14/14 [==============================] - 0s 4ms/step - loss: 0.5922 - accuracy: 0.7692 - val_loss: 0.5230 - val_accuracy: 0.8150\n",
      "Epoch 20/100\n",
      "14/14 [==============================] - 0s 4ms/step - loss: 0.5780 - accuracy: 0.7605 - val_loss: 0.5193 - val_accuracy: 0.8150\n",
      "Epoch 21/100\n",
      "14/14 [==============================] - 0s 3ms/step - loss: 0.5675 - accuracy: 0.7794 - val_loss: 0.5169 - val_accuracy: 0.8092\n",
      "Epoch 22/100\n",
      "14/14 [==============================] - 0s 3ms/step - loss: 0.5989 - accuracy: 0.7605 - val_loss: 0.5125 - val_accuracy: 0.8092\n",
      "Epoch 23/100\n",
      "14/14 [==============================] - 0s 3ms/step - loss: 0.5870 - accuracy: 0.7605 - val_loss: 0.5059 - val_accuracy: 0.8092\n",
      "Epoch 24/100\n",
      "14/14 [==============================] - 0s 3ms/step - loss: 0.5802 - accuracy: 0.7663 - val_loss: 0.4986 - val_accuracy: 0.8092\n",
      "Epoch 25/100\n",
      "14/14 [==============================] - 0s 3ms/step - loss: 0.5449 - accuracy: 0.7896 - val_loss: 0.4939 - val_accuracy: 0.8092\n",
      "Epoch 26/100\n",
      "14/14 [==============================] - 0s 3ms/step - loss: 0.5745 - accuracy: 0.7736 - val_loss: 0.4897 - val_accuracy: 0.8092\n",
      "Epoch 27/100\n",
      "14/14 [==============================] - 0s 3ms/step - loss: 0.5738 - accuracy: 0.7576 - val_loss: 0.4876 - val_accuracy: 0.8092\n",
      "Epoch 28/100\n",
      "14/14 [==============================] - 0s 3ms/step - loss: 0.5703 - accuracy: 0.7620 - val_loss: 0.4838 - val_accuracy: 0.8092\n",
      "Epoch 29/100\n",
      "14/14 [==============================] - 0s 3ms/step - loss: 0.5245 - accuracy: 0.7837 - val_loss: 0.4824 - val_accuracy: 0.8092\n",
      "Epoch 30/100\n",
      "14/14 [==============================] - 0s 3ms/step - loss: 0.5823 - accuracy: 0.7794 - val_loss: 0.4811 - val_accuracy: 0.8092\n",
      "Epoch 31/100\n",
      "14/14 [==============================] - 0s 3ms/step - loss: 0.5162 - accuracy: 0.7910 - val_loss: 0.4780 - val_accuracy: 0.8092\n",
      "Epoch 32/100\n",
      "14/14 [==============================] - 0s 3ms/step - loss: 0.5529 - accuracy: 0.7881 - val_loss: 0.4771 - val_accuracy: 0.8092\n",
      "Epoch 33/100\n",
      "14/14 [==============================] - 0s 3ms/step - loss: 0.5524 - accuracy: 0.7808 - val_loss: 0.4767 - val_accuracy: 0.8092\n",
      "Epoch 34/100\n",
      "14/14 [==============================] - 0s 3ms/step - loss: 0.5304 - accuracy: 0.7896 - val_loss: 0.4755 - val_accuracy: 0.8092\n",
      "Epoch 35/100\n",
      "14/14 [==============================] - 0s 3ms/step - loss: 0.5309 - accuracy: 0.7779 - val_loss: 0.4750 - val_accuracy: 0.8092\n",
      "Epoch 36/100\n",
      "14/14 [==============================] - 0s 3ms/step - loss: 0.5429 - accuracy: 0.7866 - val_loss: 0.4746 - val_accuracy: 0.8092\n",
      "Epoch 37/100\n",
      "14/14 [==============================] - 0s 4ms/step - loss: 0.5150 - accuracy: 0.7910 - val_loss: 0.4729 - val_accuracy: 0.8150\n",
      "Epoch 38/100\n",
      "14/14 [==============================] - 0s 4ms/step - loss: 0.5297 - accuracy: 0.7736 - val_loss: 0.4712 - val_accuracy: 0.8150\n",
      "Epoch 39/100\n",
      "14/14 [==============================] - 0s 3ms/step - loss: 0.5442 - accuracy: 0.7794 - val_loss: 0.4690 - val_accuracy: 0.8324\n",
      "Epoch 40/100\n",
      "14/14 [==============================] - 0s 6ms/step - loss: 0.5248 - accuracy: 0.7823 - val_loss: 0.4694 - val_accuracy: 0.8324\n",
      "Epoch 41/100\n",
      "14/14 [==============================] - 0s 4ms/step - loss: 0.5173 - accuracy: 0.7779 - val_loss: 0.4682 - val_accuracy: 0.8324\n",
      "Epoch 42/100\n",
      "14/14 [==============================] - 0s 4ms/step - loss: 0.5056 - accuracy: 0.7823 - val_loss: 0.4656 - val_accuracy: 0.8324\n",
      "Epoch 43/100\n",
      "14/14 [==============================] - 0s 4ms/step - loss: 0.5382 - accuracy: 0.7794 - val_loss: 0.4654 - val_accuracy: 0.8324\n",
      "Epoch 44/100\n",
      "14/14 [==============================] - 0s 3ms/step - loss: 0.5226 - accuracy: 0.7968 - val_loss: 0.4649 - val_accuracy: 0.8324\n",
      "Epoch 45/100\n",
      "14/14 [==============================] - 0s 3ms/step - loss: 0.5163 - accuracy: 0.7954 - val_loss: 0.4658 - val_accuracy: 0.8324\n",
      "Epoch 46/100\n",
      "14/14 [==============================] - 0s 3ms/step - loss: 0.5255 - accuracy: 0.7794 - val_loss: 0.4659 - val_accuracy: 0.8150\n",
      "Epoch 47/100\n",
      "14/14 [==============================] - 0s 3ms/step - loss: 0.5180 - accuracy: 0.7881 - val_loss: 0.4668 - val_accuracy: 0.8150\n",
      "Epoch 48/100\n",
      "14/14 [==============================] - 0s 3ms/step - loss: 0.5232 - accuracy: 0.7881 - val_loss: 0.4659 - val_accuracy: 0.8150\n",
      "Epoch 49/100\n",
      "14/14 [==============================] - 0s 3ms/step - loss: 0.5131 - accuracy: 0.8012 - val_loss: 0.4646 - val_accuracy: 0.8150\n",
      "Epoch 50/100\n",
      "14/14 [==============================] - 0s 3ms/step - loss: 0.5131 - accuracy: 0.7939 - val_loss: 0.4626 - val_accuracy: 0.8324\n",
      "Epoch 51/100\n",
      "14/14 [==============================] - 0s 3ms/step - loss: 0.5063 - accuracy: 0.7968 - val_loss: 0.4622 - val_accuracy: 0.8324\n",
      "Epoch 52/100\n",
      "14/14 [==============================] - 0s 3ms/step - loss: 0.5067 - accuracy: 0.8128 - val_loss: 0.4620 - val_accuracy: 0.8324\n",
      "Epoch 53/100\n",
      "14/14 [==============================] - 0s 3ms/step - loss: 0.5076 - accuracy: 0.8041 - val_loss: 0.4626 - val_accuracy: 0.8324\n",
      "Epoch 54/100\n",
      "14/14 [==============================] - 0s 3ms/step - loss: 0.5060 - accuracy: 0.8026 - val_loss: 0.4647 - val_accuracy: 0.8150\n",
      "Epoch 55/100\n",
      "14/14 [==============================] - 0s 3ms/step - loss: 0.4934 - accuracy: 0.7939 - val_loss: 0.4634 - val_accuracy: 0.8150\n",
      "Epoch 56/100\n",
      "14/14 [==============================] - 0s 3ms/step - loss: 0.4985 - accuracy: 0.8070 - val_loss: 0.4616 - val_accuracy: 0.8150\n",
      "Epoch 57/100\n",
      "14/14 [==============================] - 0s 3ms/step - loss: 0.5248 - accuracy: 0.7881 - val_loss: 0.4616 - val_accuracy: 0.8150\n",
      "Epoch 58/100\n",
      "14/14 [==============================] - 0s 3ms/step - loss: 0.5189 - accuracy: 0.7968 - val_loss: 0.4609 - val_accuracy: 0.8324\n",
      "Epoch 59/100\n",
      "14/14 [==============================] - 0s 3ms/step - loss: 0.5133 - accuracy: 0.7881 - val_loss: 0.4618 - val_accuracy: 0.8150\n",
      "Epoch 60/100\n",
      "14/14 [==============================] - 0s 3ms/step - loss: 0.5019 - accuracy: 0.7939 - val_loss: 0.4627 - val_accuracy: 0.8150\n",
      "Epoch 61/100\n",
      "14/14 [==============================] - 0s 3ms/step - loss: 0.5133 - accuracy: 0.7997 - val_loss: 0.4625 - val_accuracy: 0.8150\n",
      "Epoch 62/100\n",
      "14/14 [==============================] - 0s 3ms/step - loss: 0.4881 - accuracy: 0.8186 - val_loss: 0.4618 - val_accuracy: 0.8150\n",
      "Epoch 63/100\n",
      "14/14 [==============================] - 0s 3ms/step - loss: 0.4979 - accuracy: 0.7852 - val_loss: 0.4601 - val_accuracy: 0.8150\n",
      "Epoch 64/100\n",
      "14/14 [==============================] - 0s 3ms/step - loss: 0.4929 - accuracy: 0.7866 - val_loss: 0.4603 - val_accuracy: 0.8150\n",
      "Epoch 65/100\n",
      "14/14 [==============================] - 0s 3ms/step - loss: 0.4983 - accuracy: 0.8012 - val_loss: 0.4608 - val_accuracy: 0.8324\n",
      "Epoch 66/100\n",
      "14/14 [==============================] - 0s 3ms/step - loss: 0.4925 - accuracy: 0.8041 - val_loss: 0.4617 - val_accuracy: 0.8324\n",
      "Epoch 67/100\n",
      "14/14 [==============================] - 0s 3ms/step - loss: 0.5044 - accuracy: 0.7925 - val_loss: 0.4614 - val_accuracy: 0.8150\n",
      "Epoch 68/100\n",
      "14/14 [==============================] - 0s 3ms/step - loss: 0.5165 - accuracy: 0.7866 - val_loss: 0.4598 - val_accuracy: 0.8324\n",
      "Epoch 69/100\n",
      "14/14 [==============================] - 0s 3ms/step - loss: 0.5093 - accuracy: 0.7925 - val_loss: 0.4589 - val_accuracy: 0.8150\n",
      "Epoch 70/100\n",
      "14/14 [==============================] - 0s 3ms/step - loss: 0.4875 - accuracy: 0.7983 - val_loss: 0.4583 - val_accuracy: 0.8324\n",
      "Epoch 71/100\n",
      "14/14 [==============================] - 0s 3ms/step - loss: 0.5005 - accuracy: 0.7983 - val_loss: 0.4579 - val_accuracy: 0.8324\n",
      "Epoch 72/100\n",
      "14/14 [==============================] - 0s 3ms/step - loss: 0.5061 - accuracy: 0.8012 - val_loss: 0.4576 - val_accuracy: 0.8150\n",
      "Epoch 73/100\n",
      "14/14 [==============================] - 0s 3ms/step - loss: 0.5038 - accuracy: 0.7852 - val_loss: 0.4564 - val_accuracy: 0.8150\n",
      "Epoch 74/100\n",
      "14/14 [==============================] - 0s 3ms/step - loss: 0.4949 - accuracy: 0.7954 - val_loss: 0.4564 - val_accuracy: 0.8150\n",
      "Epoch 75/100\n",
      "14/14 [==============================] - 0s 3ms/step - loss: 0.5071 - accuracy: 0.8012 - val_loss: 0.4553 - val_accuracy: 0.8324\n",
      "Epoch 76/100\n",
      "14/14 [==============================] - 0s 3ms/step - loss: 0.5028 - accuracy: 0.7910 - val_loss: 0.4546 - val_accuracy: 0.8324\n",
      "Epoch 77/100\n",
      "14/14 [==============================] - 0s 3ms/step - loss: 0.4945 - accuracy: 0.7866 - val_loss: 0.4553 - val_accuracy: 0.8324\n",
      "Epoch 78/100\n",
      "14/14 [==============================] - 0s 3ms/step - loss: 0.4831 - accuracy: 0.7997 - val_loss: 0.4549 - val_accuracy: 0.8324\n",
      "Epoch 79/100\n",
      "14/14 [==============================] - 0s 3ms/step - loss: 0.5067 - accuracy: 0.7837 - val_loss: 0.4544 - val_accuracy: 0.8324\n",
      "Epoch 80/100\n",
      "14/14 [==============================] - 0s 3ms/step - loss: 0.5098 - accuracy: 0.7765 - val_loss: 0.4552 - val_accuracy: 0.8324\n",
      "Epoch 81/100\n",
      "14/14 [==============================] - 0s 3ms/step - loss: 0.5022 - accuracy: 0.7968 - val_loss: 0.4565 - val_accuracy: 0.8324\n",
      "Epoch 82/100\n",
      "14/14 [==============================] - 0s 3ms/step - loss: 0.4972 - accuracy: 0.7983 - val_loss: 0.4567 - val_accuracy: 0.8324\n",
      "Epoch 83/100\n",
      "14/14 [==============================] - 0s 3ms/step - loss: 0.4986 - accuracy: 0.7925 - val_loss: 0.4568 - val_accuracy: 0.8324\n",
      "Epoch 84/100\n",
      "14/14 [==============================] - 0s 3ms/step - loss: 0.4901 - accuracy: 0.8026 - val_loss: 0.4560 - val_accuracy: 0.8324\n",
      "Epoch 85/100\n",
      "14/14 [==============================] - 0s 3ms/step - loss: 0.4899 - accuracy: 0.7939 - val_loss: 0.4552 - val_accuracy: 0.8324\n",
      "Epoch 86/100\n",
      "14/14 [==============================] - 0s 3ms/step - loss: 0.5004 - accuracy: 0.7866 - val_loss: 0.4547 - val_accuracy: 0.8324\n",
      "Epoch 87/100\n",
      "14/14 [==============================] - 0s 4ms/step - loss: 0.4721 - accuracy: 0.8055 - val_loss: 0.4542 - val_accuracy: 0.8324\n",
      "Epoch 88/100\n",
      "14/14 [==============================] - 0s 3ms/step - loss: 0.5059 - accuracy: 0.7837 - val_loss: 0.4530 - val_accuracy: 0.8324\n",
      "Epoch 89/100\n",
      "14/14 [==============================] - 0s 3ms/step - loss: 0.4841 - accuracy: 0.8084 - val_loss: 0.4525 - val_accuracy: 0.8324\n",
      "Epoch 90/100\n",
      "14/14 [==============================] - 0s 3ms/step - loss: 0.4998 - accuracy: 0.7968 - val_loss: 0.4526 - val_accuracy: 0.8324\n",
      "Epoch 91/100\n",
      "14/14 [==============================] - 0s 3ms/step - loss: 0.4844 - accuracy: 0.7968 - val_loss: 0.4517 - val_accuracy: 0.8324\n",
      "Epoch 92/100\n",
      "14/14 [==============================] - 0s 3ms/step - loss: 0.5030 - accuracy: 0.7939 - val_loss: 0.4509 - val_accuracy: 0.8324\n",
      "Epoch 93/100\n",
      "14/14 [==============================] - 0s 3ms/step - loss: 0.4807 - accuracy: 0.7983 - val_loss: 0.4501 - val_accuracy: 0.8324\n",
      "Epoch 94/100\n",
      "14/14 [==============================] - 0s 3ms/step - loss: 0.4865 - accuracy: 0.7983 - val_loss: 0.4515 - val_accuracy: 0.8324\n",
      "Epoch 95/100\n",
      "14/14 [==============================] - 0s 3ms/step - loss: 0.4901 - accuracy: 0.8012 - val_loss: 0.4516 - val_accuracy: 0.8324\n",
      "Epoch 96/100\n",
      "14/14 [==============================] - 0s 3ms/step - loss: 0.5094 - accuracy: 0.8070 - val_loss: 0.4509 - val_accuracy: 0.8324\n",
      "Epoch 97/100\n",
      "14/14 [==============================] - 0s 3ms/step - loss: 0.4764 - accuracy: 0.8099 - val_loss: 0.4503 - val_accuracy: 0.8324\n",
      "Epoch 98/100\n",
      "14/14 [==============================] - 0s 3ms/step - loss: 0.4996 - accuracy: 0.7983 - val_loss: 0.4501 - val_accuracy: 0.8324\n",
      "Epoch 99/100\n",
      "14/14 [==============================] - 0s 3ms/step - loss: 0.5007 - accuracy: 0.7939 - val_loss: 0.4499 - val_accuracy: 0.8324\n",
      "Epoch 100/100\n",
      "14/14 [==============================] - 0s 3ms/step - loss: 0.4953 - accuracy: 0.8041 - val_loss: 0.4504 - val_accuracy: 0.8324\n"
     ]
    }
   ],
   "source": [
    "from tensorflow.keras.callbacks import EarlyStopping\n",
    "from tensorflow.keras.layers import Dropout, BatchNormalization\n",
    "from tensorflow.keras.regularizers import l2\n",
    "\n",
    "model1 = tf.keras.Sequential()\n",
    "model1.add(tf.keras.layers.Dense(64, activation='relu', kernel_regularizer=l2(0.001)))\n",
    "model1.add(BatchNormalization())\n",
    "model1.add(Dropout(0.5))\n",
    "model1.add(tf.keras.layers.Dense(32, activation='relu', kernel_regularizer=l2(0.001)))\n",
    "model1.add(BatchNormalization())\n",
    "model1.add(Dropout(0.5))\n",
    "model1.add(tf.keras.layers.Dense(2, activation='softmax'))\n",
    "\n",
    "model1.compile(loss='sparse_categorical_crossentropy', optimizer='adam', metrics=['accuracy'])\n",
    "\n",
    "early_stopping = EarlyStopping(monitor='val_loss', patience=10)\n",
    "\n",
    "history = model1.fit(x_train, y_train, epochs=100, batch_size=50, validation_split=0.2, callbacks=[early_stopping])\n"
   ]
  },
  {
   "cell_type": "code",
   "execution_count": 50,
   "metadata": {},
   "outputs": [
    {
     "name": "stdout",
     "output_type": "stream",
     "text": [
      "14/14 [==============================] - 0s 767us/step\n"
     ]
    }
   ],
   "source": [
    "# Assuming 'model' is your trained model and 'x_test' is your test dataset\n",
    "predictions = model1.predict(x_test)\n",
    "\n",
    "# Convert probabilities to class labels\n",
    "predictions = np.argmax(predictions, axis=-1)\n",
    "\n",
    "# Create a DataFrame with PassengerId and Survived columns\n",
    "df_predictions = pd.DataFrame({\n",
    "    'PassengerId': df_test['PassengerId'],\n",
    "    'Survived': predictions\n",
    "})\n",
    "\n",
    "# Save to CSV file\n",
    "df_predictions.to_csv('predictions2.csv', index=False)"
   ]
  },
  {
   "cell_type": "code",
   "execution_count": 51,
   "metadata": {},
   "outputs": [
    {
     "name": "stdout",
     "output_type": "stream",
     "text": [
      "Max Fare: 146.5208\n",
      "Min Fare: 0.0\n"
     ]
    }
   ],
   "source": [
    "#creating fare brackets\n",
    "print(\"Max Fare:\",df_training['Fare'].max())\n",
    "print(\"Min Fare:\",df_training['Fare'].min())\n"
   ]
  },
  {
   "cell_type": "code",
   "execution_count": 52,
   "metadata": {},
   "outputs": [
    {
     "data": {
      "text/plain": [
       "<AxesSubplot: ylabel='Fare'>"
      ]
     },
     "execution_count": 52,
     "metadata": {},
     "output_type": "execute_result"
    },
    {
     "data": {
      "image/png": "[encoded data removed]",
      "text/plain": [
       "<Figure size 640x480 with 1 Axes>"
      ]
     },
     "metadata": {},
     "output_type": "display_data"
    }
   ],
   "source": [
    "sns.boxplot(data=df_training,y=df_training['Fare'])"
   ]
  },
  {
   "cell_type": "code",
   "execution_count": null,
   "metadata": {},
   "outputs": [],
   "source": []
  },
  {
   "cell_type": "code",
   "execution_count": null,
   "metadata": {},
   "outputs": [],
   "source": []
  },
  {
   "cell_type": "code",
   "execution_count": null,
   "metadata": {},
   "outputs": [],
   "source": []
  }
 ],
 "metadata": {
  "kernelspec": {
   "display_name": "Python 3",
   "language": "python",
   "name": "python3"
  },
  "language_info": {
   "codemirror_mode": {
    "name": "ipython",
    "version": 3
   },
   "file_extension": ".py",
   "mimetype": "text/x-python",
   "name": "python",
   "nbconvert_exporter": "python",
   "pygments_lexer": "ipython3",
   "version": "3.11.1"
  }
 },
 "nbformat": 4,
 "nbformat_minor": 2
}
